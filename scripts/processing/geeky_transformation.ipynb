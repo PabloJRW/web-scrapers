{
  "cells": [
    {
      "cell_type": "code",
      "execution_count": 198,
      "metadata": {
        "colab": {
          "base_uri": "https://localhost:8080/"
        },
        "id": "UBokk-MMYd6J",
        "outputId": "53380092-fb50-4840-e297-7a31312606a3"
      },
      "outputs": [],
      "source": [
        "import os\n",
        "import re\n",
        "import numpy as np\n",
        "import pandas as pd\n",
        "from datetime import datetime"
      ]
    },
    {
      "cell_type": "code",
      "execution_count": 199,
      "metadata": {
        "colab": {
          "base_uri": "https://localhost:8080/",
          "height": 424
        },
        "id": "dGPpulGlYoue",
        "outputId": "b3dd2929-42de-4c38-d28f-c433f872d29f"
      },
      "outputs": [
        {
          "data": {
            "text/html": [
              "<div>\n",
              "<style scoped>\n",
              "    .dataframe tbody tr th:only-of-type {\n",
              "        vertical-align: middle;\n",
              "    }\n",
              "\n",
              "    .dataframe tbody tr th {\n",
              "        vertical-align: top;\n",
              "    }\n",
              "\n",
              "    .dataframe thead th {\n",
              "        text-align: right;\n",
              "    }\n",
              "</style>\n",
              "<table border=\"1\" class=\"dataframe\">\n",
              "  <thead>\n",
              "    <tr style=\"text-align: right;\">\n",
              "      <th></th>\n",
              "      <th>Nombre</th>\n",
              "      <th>KM</th>\n",
              "      <th>Estado</th>\n",
              "      <th>Combustible</th>\n",
              "      <th>Carrocería</th>\n",
              "      <th>Tracción</th>\n",
              "      <th>Transmisión</th>\n",
              "      <th>Asientos</th>\n",
              "      <th>Color</th>\n",
              "      <th>Verificación</th>\n",
              "      <th>Precio</th>\n",
              "    </tr>\n",
              "  </thead>\n",
              "  <tbody>\n",
              "    <tr>\n",
              "      <th>0</th>\n",
              "      <td>Tesla Model 3 2018 Bajo Perfil</td>\n",
              "      <td>44000</td>\n",
              "      <td>Usado</td>\n",
              "      <td>Eléctrico</td>\n",
              "      <td>Sedan</td>\n",
              "      <td>4x4</td>\n",
              "      <td>Automática</td>\n",
              "      <td>Cuero vegano</td>\n",
              "      <td>Red Multi-Coat</td>\n",
              "      <td>93.0</td>\n",
              "      <td>$55,000</td>\n",
              "    </tr>\n",
              "    <tr>\n",
              "      <th>1</th>\n",
              "      <td>Audi Q5 2012</td>\n",
              "      <td>154000</td>\n",
              "      <td>Usado</td>\n",
              "      <td>Gasolina</td>\n",
              "      <td>SUV</td>\n",
              "      <td>4x2</td>\n",
              "      <td>Automática</td>\n",
              "      <td>Cuerro</td>\n",
              "      <td>Gris</td>\n",
              "      <td>NaN</td>\n",
              "      <td>$6,500</td>\n",
              "    </tr>\n",
              "    <tr>\n",
              "      <th>2</th>\n",
              "      <td>Audi Q5 2012</td>\n",
              "      <td>154000</td>\n",
              "      <td>Usado</td>\n",
              "      <td>Gasolina</td>\n",
              "      <td>SUV</td>\n",
              "      <td>4x2</td>\n",
              "      <td>Automática</td>\n",
              "      <td>Cuerro</td>\n",
              "      <td>Gris</td>\n",
              "      <td>NaN</td>\n",
              "      <td>$6,500</td>\n",
              "    </tr>\n",
              "    <tr>\n",
              "      <th>3</th>\n",
              "      <td>Toyota Corolla Sport Edition Full Extras 2019</td>\n",
              "      <td>78000</td>\n",
              "      <td>Usado</td>\n",
              "      <td>Gasolina</td>\n",
              "      <td>Sedan</td>\n",
              "      <td>4x2</td>\n",
              "      <td>Automática</td>\n",
              "      <td>Cuero</td>\n",
              "      <td>Azul Marino</td>\n",
              "      <td>95.0</td>\n",
              "      <td>$17,500</td>\n",
              "    </tr>\n",
              "    <tr>\n",
              "      <th>4</th>\n",
              "      <td>Audi Q5 2012</td>\n",
              "      <td>154000</td>\n",
              "      <td>Usado</td>\n",
              "      <td>Gasolina</td>\n",
              "      <td>SUV</td>\n",
              "      <td>4x2</td>\n",
              "      <td>Automática</td>\n",
              "      <td>Cuerro</td>\n",
              "      <td>Gris</td>\n",
              "      <td>NaN</td>\n",
              "      <td>$6,500</td>\n",
              "    </tr>\n",
              "    <tr>\n",
              "      <th>...</th>\n",
              "      <td>...</td>\n",
              "      <td>...</td>\n",
              "      <td>...</td>\n",
              "      <td>...</td>\n",
              "      <td>...</td>\n",
              "      <td>...</td>\n",
              "      <td>...</td>\n",
              "      <td>...</td>\n",
              "      <td>...</td>\n",
              "      <td>...</td>\n",
              "      <td>...</td>\n",
              "    </tr>\n",
              "    <tr>\n",
              "      <th>4283</th>\n",
              "      <td>Nissan Almera 2005</td>\n",
              "      <td>150000</td>\n",
              "      <td>Usado</td>\n",
              "      <td>Gasolina</td>\n",
              "      <td>Sedan</td>\n",
              "      <td>4x2</td>\n",
              "      <td>Automática</td>\n",
              "      <td>Tela</td>\n",
              "      <td>Rojo Vino</td>\n",
              "      <td>NaN</td>\n",
              "      <td>$3,500</td>\n",
              "    </tr>\n",
              "    <tr>\n",
              "      <th>4284</th>\n",
              "      <td>Kia Sportage full xtra 2017 Negociable</td>\n",
              "      <td>96000</td>\n",
              "      <td>Usado</td>\n",
              "      <td>Gasolina</td>\n",
              "      <td>SUV</td>\n",
              "      <td>4x2</td>\n",
              "      <td>Automática</td>\n",
              "      <td>Tela, oscuros y áreas de cuero</td>\n",
              "      <td>Negro / gris</td>\n",
              "      <td>NaN</td>\n",
              "      <td>$12,999</td>\n",
              "    </tr>\n",
              "    <tr>\n",
              "      <th>4285</th>\n",
              "      <td>BMW X5 3.OD 2014</td>\n",
              "      <td>167000</td>\n",
              "      <td>Usado</td>\n",
              "      <td>Diesel</td>\n",
              "      <td>SUV</td>\n",
              "      <td>4x4</td>\n",
              "      <td>Automática</td>\n",
              "      <td>cuero</td>\n",
              "      <td>crema</td>\n",
              "      <td>NaN</td>\n",
              "      <td>$18,000</td>\n",
              "    </tr>\n",
              "    <tr>\n",
              "      <th>4286</th>\n",
              "      <td>Jeep Wrangler Unlimited 2018</td>\n",
              "      <td>78000</td>\n",
              "      <td>Usado</td>\n",
              "      <td>Gasolina</td>\n",
              "      <td>SUV</td>\n",
              "      <td>4x4</td>\n",
              "      <td>Automática</td>\n",
              "      <td>Tela</td>\n",
              "      <td>Beige</td>\n",
              "      <td>NaN</td>\n",
              "      <td>$25,000</td>\n",
              "    </tr>\n",
              "    <tr>\n",
              "      <th>4287</th>\n",
              "      <td>TOYOTA HILUX 2019</td>\n",
              "      <td>83000</td>\n",
              "      <td>Usado</td>\n",
              "      <td>Diesel</td>\n",
              "      <td>Pickup</td>\n",
              "      <td>4x4</td>\n",
              "      <td>Automática</td>\n",
              "      <td>Tela</td>\n",
              "      <td>Gris</td>\n",
              "      <td>NaN</td>\n",
              "      <td>$34,995</td>\n",
              "    </tr>\n",
              "  </tbody>\n",
              "</table>\n",
              "<p>4288 rows × 11 columns</p>\n",
              "</div>"
            ],
            "text/plain": [
              "                                             Nombre      KM Estado  \\\n",
              "0                    Tesla Model 3 2018 Bajo Perfil   44000  Usado   \n",
              "1                                      Audi Q5 2012  154000  Usado   \n",
              "2                                      Audi Q5 2012  154000  Usado   \n",
              "3     Toyota Corolla Sport Edition Full Extras 2019   78000  Usado   \n",
              "4                                      Audi Q5 2012  154000  Usado   \n",
              "...                                             ...     ...    ...   \n",
              "4283                             Nissan Almera 2005  150000  Usado   \n",
              "4284         Kia Sportage full xtra 2017 Negociable   96000  Usado   \n",
              "4285                               BMW X5 3.OD 2014  167000  Usado   \n",
              "4286                   Jeep Wrangler Unlimited 2018   78000  Usado   \n",
              "4287                              TOYOTA HILUX 2019   83000  Usado   \n",
              "\n",
              "     Combustible Carrocería Tracción Transmisión  \\\n",
              "0      Eléctrico      Sedan      4x4  Automática   \n",
              "1       Gasolina        SUV      4x2  Automática   \n",
              "2       Gasolina        SUV      4x2  Automática   \n",
              "3       Gasolina      Sedan      4x2  Automática   \n",
              "4       Gasolina        SUV      4x2  Automática   \n",
              "...          ...        ...      ...         ...   \n",
              "4283    Gasolina      Sedan      4x2  Automática   \n",
              "4284    Gasolina        SUV      4x2  Automática   \n",
              "4285      Diesel        SUV      4x4  Automática   \n",
              "4286    Gasolina        SUV      4x4  Automática   \n",
              "4287      Diesel     Pickup      4x4  Automática   \n",
              "\n",
              "                            Asientos           Color  Verificación   Precio  \n",
              "0                       Cuero vegano  Red Multi-Coat          93.0  $55,000  \n",
              "1                             Cuerro            Gris           NaN   $6,500  \n",
              "2                             Cuerro            Gris           NaN   $6,500  \n",
              "3                              Cuero     Azul Marino          95.0  $17,500  \n",
              "4                             Cuerro            Gris           NaN   $6,500  \n",
              "...                              ...             ...           ...      ...  \n",
              "4283                            Tela       Rojo Vino           NaN   $3,500  \n",
              "4284  Tela, oscuros y áreas de cuero    Negro / gris           NaN  $12,999  \n",
              "4285                           cuero           crema           NaN  $18,000  \n",
              "4286                            Tela           Beige           NaN  $25,000  \n",
              "4287                            Tela            Gris           NaN  $34,995  \n",
              "\n",
              "[4288 rows x 11 columns]"
            ]
          },
          "execution_count": 199,
          "metadata": {},
          "output_type": "execute_result"
        }
      ],
      "source": [
        "# Ruta del archivo csv \n",
        "FILES_PATH = os.path.join('..','..','data','raw','GeekyMotors')\n",
        "csv_path = os.path.join(FILES_PATH, 'geeky_motors2.csv')\n",
        "\n",
        "# Importación del archivo CSV\n",
        "data = pd.read_csv(csv_path, encoding=\"latin-1\")\n",
        "data"
      ]
    },
    {
      "cell_type": "code",
      "execution_count": 200,
      "metadata": {},
      "outputs": [
        {
          "name": "stdout",
          "output_type": "stream",
          "text": [
            "Estado\n",
            "['Usado']\n",
            "\n",
            "Combustible\n",
            "['Eléctrico' 'Gasolina' 'Diesel']\n",
            "\n",
            "Carrocería\n",
            "['Sedan' 'SUV' 'Pickup' 'Coupe' 'Hatchback' 'Convertible' 'Wagon']\n",
            "\n",
            "Tracción\n",
            "['4x4' '4x2']\n",
            "\n",
            "Transmisión\n",
            "['Automática' 'Manual']\n",
            "\n",
            "Asientos\n",
            "['Cuero vegano' 'Cuerro' 'Cuero' 'Algodón' 'Tela' 'cuero suave' 'cuero'\n",
            " 'CUERO' 'tela' 'Asientos de tela con forros de cuerinq' 'Tela, off road'\n",
            " 'Cuerina Premium' 'TELA' 'Cuero rojo con negro' 'Asientos de tela' '5'\n",
            " 'Cuerina' 'Tela, oscuros y áreas de cuero']\n",
            "\n",
            "Verificación\n",
            "[ 93.  nan  95.  92. 100.  98.]\n",
            "\n"
          ]
        }
      ],
      "source": [
        "for col in data.columns:\n",
        "    if data[col].nunique() < 20:\n",
        "        print(col)\n",
        "        print(data[col].unique())\n",
        "        print()"
      ]
    },
    {
      "cell_type": "code",
      "execution_count": 201,
      "metadata": {},
      "outputs": [],
      "source": [
        "data_tmp = pd.DataFrame()"
      ]
    },
    {
      "cell_type": "markdown",
      "metadata": {},
      "source": [
        "### Marca"
      ]
    },
    {
      "cell_type": "code",
      "execution_count": 202,
      "metadata": {},
      "outputs": [],
      "source": [
        "def estandarizar_marcas(col, reemplazos_marcas):\n",
        "    \"\"\"\n",
        "    Esta función estandariza los nombres de marcas en una columna de un DataFrame de pandas\n",
        "    según un diccionario de reemplazos proporcionado. Los nombres de marcas en la columna se\n",
        "    reemplazan con claves específicas del diccionario si se encuentran las variantes especificadas.\n",
        "\n",
        "    Parameters:\n",
        "    - col: pd.Series\n",
        "        La columna de un dataframe que contiene los nombres de marca a estandarizar.\n",
        "    - reemplazos_marcas: dict\n",
        "        Un diccionario donde las claves son las marcas estandarizadas y los valores son listas\n",
        "        de variantes de esas marcas que deben ser reemplazadas por la clave correspondiente.\n",
        "\n",
        "    Retorna:\n",
        "    - pd.Series\n",
        "        la columna con las marcas standarizadas.\n",
        "    \"\"\"\n",
        "\n",
        "    # Iterar sobre el diccionario de reemplazos donde la clave es la marca\n",
        "    # y los valores son las marcas digitadas con errores\n",
        "    for clave, valores in reemplazos_marcas.items():\n",
        "        for valor in valores:\n",
        "            # Reemplaza cada variante en la columna con la marca estandarizada\n",
        "            # `valor.lower()` asegura que el reemplazo no distinga entre mayúsculas y minúsculas\n",
        "            # `case=False` permite que el reemplazo sea insensible a mayúsculas y minúsculas\n",
        "            # `regex=False` desactiva el uso de expresiones regulares para el reemplazo\n",
        "            col = col.str.replace(rf'{valor.lower()}', clave, case=False, regex=False)\n",
        "            \n",
        "\n",
        "    return col"
      ]
    },
    {
      "cell_type": "code",
      "execution_count": 203,
      "metadata": {},
      "outputs": [
        {
          "data": {
            "text/plain": [
              "0                      Tesla Model 3 2018 Bajo Perfil\n",
              "1                                        Audi Q5 2012\n",
              "2                                        Audi Q5 2012\n",
              "3       Toyota Corolla Sport Edition Full Extras 2019\n",
              "4                                        Audi Q5 2012\n",
              "                            ...                      \n",
              "4283                               Nissan Almera 2005\n",
              "4284           Kia Sportage full xtra 2017 Negociable\n",
              "4285                                 BMW X5 3.OD 2014\n",
              "4286                     Jeep Wrangler Unlimited 2018\n",
              "4287                                TOYOTA HILUX 2019\n",
              "Name: nombre, Length: 4288, dtype: object"
            ]
          },
          "execution_count": 203,
          "metadata": {},
          "output_type": "execute_result"
        }
      ],
      "source": [
        "reemplazos_marcas = {'Hyundai':['hyudani'], 'Porsche':['porche'], 'Mercedes-Benz':['mercedes']}\n",
        "data_tmp['nombre'] = estandarizar_marcas(data.Nombre, reemplazos_marcas)\n",
        "data_tmp.nombre"
      ]
    },
    {
      "cell_type": "code",
      "execution_count": 204,
      "metadata": {
        "id": "mAIquQb5Z3gS"
      },
      "outputs": [],
      "source": [
        "# Lista de marcas de autos\n",
        "lista_marcas = [\n",
        "    \"acura\", \"alfa romeo\", \"aston martin\", \"audi\", \"bentley\", \"bmw\", \"bugatti\", \"buick\",\n",
        "    \"cadillac\", \"chevrolet\", \"chrysler\", \"citroën\", \"dacia\", \"daewoo\", \"daihatsu\", \"dodge\",\n",
        "    \"ferrari\", \"fiat\", \"ford\", \"geely\", \"genesis\", \"gmc\", \"honda\", \"hummer\", \"hyundai\", \"infiniti\",\n",
        "    \"isuzu\", \"jaguar\", \"jeep\", \"kia\", \"koenigsegg\", \"lamborghini\", \"lancia\", \"land rover\",\n",
        "    \"lexus\", \"lincoln\", \"lotus\", \"mahindra\", \"maserati\", \"maybach\", \"mazda\", \"mclaren\", \"mercedes-benz\",\n",
        "    \"mercury\", \"mg\", \"mini\", \"mitsubishi\", \"morgan\", \"nissan\", \"opel\", \"pagani\", \"peugeot\",\n",
        "    \"plymouth\", \"polestar\", \"pontiac\", \"porsche\", \"ram\", \"renault\", \"rolls-royce\", \"saab\",\n",
        "    \"seat\", \"škoda\", \"smart\", \"subaru\", \"suzuki\", \"tata\", \"tesla\", \"toyota\", \"volkswagen\",\n",
        "    \"volvo\", \"wiesmann\", \"zotye\", \"byd\", \"chery\", \"jac\", \"ssangyong\", \"great wall\", \"fisker\", \"rivian\", \"lucid\", \"vinfast\"\n",
        "]\n"
      ]
    },
    {
      "cell_type": "code",
      "execution_count": 205,
      "metadata": {
        "colab": {
          "base_uri": "https://localhost:8080/",
          "height": 458
        },
        "id": "MXyQAb5IYzxy",
        "outputId": "0aa66d94-2819-4392-b433-e6b9277a1cb9"
      },
      "outputs": [],
      "source": [
        "def extraer_marca(df):\n",
        "    # Convertir el texto a minúsculas\n",
        "    texto = df.lower()\n",
        "\n",
        "    for marca in lista_marcas:\n",
        "        # Crear un patrón de expresión regular para la marca, con delimitadores de palabra\n",
        "        patron = r'\\b' + re.escape(marca.lower()) + r'\\b'\n",
        "\n",
        "        # Si encuentra una coincidencia de palabra completa, retorna la marca\n",
        "        if re.search(patron, texto):\n",
        "            return marca\n",
        "\n",
        "    return df "
      ]
    },
    {
      "cell_type": "code",
      "execution_count": 206,
      "metadata": {},
      "outputs": [
        {
          "data": {
            "text/plain": [
              "array(['tesla', 'audi', 'toyota', 'nissan', 'hyundai', 'kia', 'bmw',\n",
              "       'honda', 'mini', 'mercedes-benz', 'subaru', 'suzuki', 'renault',\n",
              "       'mazda', 'acura', 'geely', 'lincoln', 'land rover', 'ford',\n",
              "       'maserati', 'mitsubishi', 'mahindra', 'peugeot', 'isuzu',\n",
              "       'volkswagen', 'chevrolet', 'jeep', 'dodge', 'porsche'],\n",
              "      dtype=object)"
            ]
          },
          "execution_count": 206,
          "metadata": {},
          "output_type": "execute_result"
        }
      ],
      "source": [
        "data_tmp['marca'] = data_tmp['nombre'].apply(extraer_marca)\n",
        "data_tmp.marca.unique()"
      ]
    },
    {
      "cell_type": "markdown",
      "metadata": {},
      "source": [
        "### Año"
      ]
    },
    {
      "cell_type": "code",
      "execution_count": 207,
      "metadata": {
        "colab": {
          "base_uri": "https://localhost:8080/",
          "height": 458
        },
        "id": "E4qWH1Akbhuu",
        "outputId": "a6df8ee0-9c5d-4e22-f1ca-35d7b24baacf"
      },
      "outputs": [],
      "source": [
        "def extraer_anio(df):\n",
        "    lista_anios = np.arange(1990, datetime.now().year + 1)\n",
        "    for anio in lista_anios:\n",
        "        if str(anio) in df:\n",
        "            return anio\n",
        "    return \"\""
      ]
    },
    {
      "cell_type": "code",
      "execution_count": 208,
      "metadata": {},
      "outputs": [
        {
          "data": {
            "text/plain": [
              "0       2018\n",
              "1       2012\n",
              "2       2012\n",
              "3       2019\n",
              "4       2012\n",
              "        ... \n",
              "4283    2005\n",
              "4284    2017\n",
              "4285    2014\n",
              "4286    2018\n",
              "4287    2019\n",
              "Name: anio, Length: 4288, dtype: int64"
            ]
          },
          "execution_count": 208,
          "metadata": {},
          "output_type": "execute_result"
        }
      ],
      "source": [
        "\n",
        "data_tmp['anio'] = data['Nombre'].apply(extraer_anio)\n",
        "data_tmp['anio']"
      ]
    },
    {
      "cell_type": "markdown",
      "metadata": {},
      "source": [
        "### Modelo"
      ]
    },
    {
      "cell_type": "code",
      "execution_count": 209,
      "metadata": {
        "colab": {
          "base_uri": "https://localhost:8080/",
          "height": 458
        },
        "id": "DdWft9tFbnuv",
        "outputId": "5eb49a4c-d95c-4ee9-b9de-860e54993c07"
      },
      "outputs": [],
      "source": [
        "def extraer_modelos(df):\n",
        "    marca = extraer_marca(df)\n",
        "    anio = extraer_anio(df)\n",
        "\n",
        "    if marca != \"Desconocida\" and anio != \"Desconocido\":\n",
        "        # Encontrar la posición de la marca y el año en el texto\n",
        "        start_index = df.lower().find(marca.lower()) + len(marca)\n",
        "        end_index = df.find(str(anio))\n",
        "\n",
        "        # Extraer el texto entre la marca y el año\n",
        "        modelo = df[start_index:end_index].strip()\n",
        "\n",
        "        return modelo\n",
        "    return \"\""
      ]
    },
    {
      "cell_type": "code",
      "execution_count": 210,
      "metadata": {},
      "outputs": [
        {
          "data": {
            "text/plain": [
              "array(['Model 3', 'Q5', 'Corolla Sport Edition Full Extras', 'Navara',\n",
              "       'i20-Active', 'Extrail', 'RIO', 'Cerato', '218i Gran Coupé',\n",
              "       'Civic full extra', 'Cooper', 'Mercedes AMG GLE 63s Coupe', 'XV',\n",
              "       'Ciaz', 'Tucson', 'Model X', 'Xtrail', 'Captur', '318i', 'Crv',\n",
              "       'Q3', 'Accent', 'Corolla', 'X-trail', 'CX-9', 'Tucson GLS Full',\n",
              "       'Land Cruiser', 'Rogue', 'TLX', 'GLE 400', 'Grand i10', '650i', '',\n",
              "       'LAND CRUISER Prado', 'EON', 'Civic', 'Swift dzire', 'Coolray',\n",
              "       'Outback', 'K2700', 'Aviator', 'CR-V', 'Sportage Gt Line',\n",
              "       'Tundra', 'Rav 4', 'Yaris', 'MDX',\n",
              "       'Range Rover Vogue supercharged', 'Range Rover Sport', 'Cx5',\n",
              "       'tercel', 'A3', 'F150 Lariat', 'Kicks', 'Venue', 'X1',\n",
              "       'Levante S Negociable', 'HILUX', 'F-150 Raptor', '640',\n",
              "       'RIO HATCHBACK', 'Yaris S FULL', 'Asx', 'Vitara', 'Figo',\n",
              "       'Q3 Sportback', 'Ranger XL', 'BRONCO SPORT', 'COROLLA SE',\n",
              "       'Pik Up 2.5', '301', 'ILX', 'ISUZU', 'TIGUAN', 'Traverse',\n",
              "       'Grand Cherokee Laredo', 'Ford EDGE SEL', 'Cx-5', 'WRANGLER',\n",
              "       'Range Rover Evoque', '4Runner', 'WRX', 'Prado TXL',\n",
              "       'Outlander Sport', 'Montero Sport', 'Equinox EV',\n",
              "       'Ranger WILDTRAK', 'Mustang', 'Ram 1500', 'Odyssey', 'QASQHAI',\n",
              "       'Civic Coupe', 'Versa', 'i10', 'Almera', 'Sportage full xtra',\n",
              "       'X5 3.OD', 'Wrangler Unlimited'], dtype=object)"
            ]
          },
          "execution_count": 210,
          "metadata": {},
          "output_type": "execute_result"
        }
      ],
      "source": [
        "data_tmp['modelo'] = data['Nombre'].apply(extraer_modelos)\n",
        "data_tmp['modelo'].unique()"
      ]
    },
    {
      "cell_type": "code",
      "execution_count": null,
      "metadata": {},
      "outputs": [],
      "source": []
    },
    {
      "cell_type": "code",
      "execution_count": 211,
      "metadata": {},
      "outputs": [],
      "source": [
        "def remover_textos(col, textos_a_eliminar):\n",
        "    \"\"\"\n",
        "    Elimina palabras como 'full extra', 'full extras', 'hatchback', etc de la columna \"modelo\",\n",
        "    sin importar si están en mayúsculas o minúsculas.\n",
        "    \"\"\"\n",
        "    pattern = re.compile(r'\\b(?:' + '|'.join(re.escape(texto) for texto in textos_a_eliminar) + r')\\b', re.IGNORECASE)\n",
        "    modelo_tmp = col.apply(lambda x: pattern.sub('', str(x)).strip())\n",
        "\n",
        "    return modelo_tmp"
      ]
    },
    {
      "cell_type": "code",
      "execution_count": 212,
      "metadata": {},
      "outputs": [
        {
          "data": {
            "text/plain": [
              "array(['Model 3', 'Q5', 'Corolla Sport Edition', 'Navara', 'i20-Active',\n",
              "       'Extrail', 'RIO', 'Cerato', '218i Gran Coupé', 'Civic', 'Cooper',\n",
              "       'AMG GLE 63s Coupe', 'XV', 'Ciaz', 'Tucson', 'Model X', 'Xtrail',\n",
              "       'Captur', '318i', 'Crv', 'Q3', 'Accent', 'Corolla', 'X-trail',\n",
              "       'CX-9', 'Tucson GLS', 'Land Cruiser', 'Rogue', 'TLX', 'GLE 400',\n",
              "       'Grand i10', '650i', '', 'LAND CRUISER Prado', 'EON',\n",
              "       'Swift dzire', 'Coolray', 'Outback', 'K2700', 'Aviator', 'CR-V',\n",
              "       'Sportage Gt Line', 'Tundra', 'Rav 4', 'Yaris', 'MDX',\n",
              "       'Range Rover Vogue supercharged', 'Range Rover Sport', 'Cx5',\n",
              "       'tercel', 'A3', 'F150 Lariat', 'Kicks', 'Venue', 'X1', 'Levante S',\n",
              "       'HILUX', 'F-150 Raptor', '640', 'Yaris S', 'Asx', 'Vitara', 'Figo',\n",
              "       'Q3 Sportback', 'Ranger XL', 'BRONCO SPORT', 'COROLLA SE',\n",
              "       'Pik Up 2.5', '301', 'ILX', 'ISUZU', 'TIGUAN', 'Traverse',\n",
              "       'Grand Cherokee Laredo', 'Ford EDGE SEL', 'Cx-5', 'WRANGLER',\n",
              "       'Range Rover Evoque', '4Runner', 'WRX', 'Prado TXL',\n",
              "       'Outlander Sport', 'Montero Sport', 'Equinox EV',\n",
              "       'Ranger WILDTRAK', 'Mustang', 'Ram 1500', 'Odyssey', 'QASQHAI',\n",
              "       'Civic Coupe', 'Versa', 'i10', 'Almera', 'Sportage', 'X5 3.OD',\n",
              "       'Wrangler Unlimited'], dtype=object)"
            ]
          },
          "execution_count": 212,
          "metadata": {},
          "output_type": "execute_result"
        }
      ],
      "source": [
        "# Lista de textos a eliminar\n",
        "textos_a_eliminar = ['full', 'xtra', 'extra', 'extras', 'full extra', 'full extras', 'full xtra', 'hatchback', 'negociable', 'mercedes']\n",
        "data_tmp['modelo'] = remover_textos(data_tmp.modelo, textos_a_eliminar)\n",
        "data_tmp.modelo.unique()"
      ]
    },
    {
      "cell_type": "code",
      "execution_count": 213,
      "metadata": {},
      "outputs": [],
      "source": [
        "def transformar_sport_edition(col):\n",
        "    \"\"\"\n",
        "    Transforma el texto \"Sport Edition\" a \"SE\"\n",
        "    \"\"\"\n",
        "\n",
        "    pattern = re.compile(r'\\bsport[\\s-]*edition\\b', re.IGNORECASE)\n",
        "    modelo_tmp = col.apply(lambda x: pattern.sub('SE', str(x)))\n",
        "\n",
        "    return modelo_tmp"
      ]
    },
    {
      "cell_type": "code",
      "execution_count": 214,
      "metadata": {},
      "outputs": [
        {
          "name": "stdout",
          "output_type": "stream",
          "text": [
            "Cantidad de modelos: 96\n"
          ]
        },
        {
          "data": {
            "text/plain": [
              "array(['Model 3', 'Q5', 'Corolla SE', 'Navara', 'i20-Active', 'Extrail',\n",
              "       'RIO', 'Cerato', '218i Gran Coupé', 'Civic', 'Cooper',\n",
              "       'AMG GLE 63s Coupe', 'XV', 'Ciaz', 'Tucson', 'Model X', 'Xtrail',\n",
              "       'Captur', '318i', 'Crv', 'Q3', 'Accent', 'Corolla', 'X-trail',\n",
              "       'CX-9', 'Tucson GLS', 'Land Cruiser', 'Rogue', 'TLX', 'GLE 400',\n",
              "       'Grand i10', '650i', '', 'LAND CRUISER Prado', 'EON',\n",
              "       'Swift dzire', 'Coolray', 'Outback', 'K2700', 'Aviator', 'CR-V',\n",
              "       'Sportage Gt Line', 'Tundra', 'Rav 4', 'Yaris', 'MDX',\n",
              "       'Range Rover Vogue supercharged', 'Range Rover Sport', 'Cx5',\n",
              "       'tercel', 'A3', 'F150 Lariat', 'Kicks', 'Venue', 'X1', 'Levante S',\n",
              "       'HILUX', 'F-150 Raptor', '640', 'Yaris S', 'Asx', 'Vitara', 'Figo',\n",
              "       'Q3 Sportback', 'Ranger XL', 'BRONCO SPORT', 'COROLLA SE',\n",
              "       'Pik Up 2.5', '301', 'ILX', 'ISUZU', 'TIGUAN', 'Traverse',\n",
              "       'Grand Cherokee Laredo', 'Ford EDGE SEL', 'Cx-5', 'WRANGLER',\n",
              "       'Range Rover Evoque', '4Runner', 'WRX', 'Prado TXL',\n",
              "       'Outlander Sport', 'Montero Sport', 'Equinox EV',\n",
              "       'Ranger WILDTRAK', 'Mustang', 'Ram 1500', 'Odyssey', 'QASQHAI',\n",
              "       'Civic Coupe', 'Versa', 'i10', 'Almera', 'Sportage', 'X5 3.OD',\n",
              "       'Wrangler Unlimited'], dtype=object)"
            ]
          },
          "execution_count": 214,
          "metadata": {},
          "output_type": "execute_result"
        }
      ],
      "source": [
        "data_tmp['modelo'] = transformar_sport_edition(data_tmp.modelo)\n",
        "print(f\"Cantidad de modelos: {data_tmp.modelo.nunique()}\")\n",
        "data_tmp.modelo.unique()"
      ]
    },
    {
      "cell_type": "code",
      "execution_count": 215,
      "metadata": {},
      "outputs": [],
      "source": [
        "def estandarizar_modelos(col, dict_reemplazos):\n",
        "    # Iterar sobre el diccionario de reemplazos\n",
        "    for clave, valores in dict_reemplazos.items():\n",
        "        for valor in valores:\n",
        "            # Reemplaza cada valor en la columna temporal en minúsculas\n",
        "            col = col.str.replace(rf'{valor}', clave, case=False, regex=False)\n",
        "\n",
        "    return col\n"
      ]
    },
    {
      "cell_type": "code",
      "execution_count": 216,
      "metadata": {},
      "outputs": [
        {
          "name": "stdout",
          "output_type": "stream",
          "text": [
            "Cantidad de modelos: 92\n"
          ]
        },
        {
          "data": {
            "text/plain": [
              "array(['Model 3', 'Q5', 'Corolla SE', 'Navara', 'i20-Active', 'X-Trail',\n",
              "       'Rio', 'Cerato', '218i Gran Coupé', 'Civic', 'Cooper',\n",
              "       'AMG GLE 63s Coupe', 'XV', 'Ciaz', 'Tucson', 'Model X', 'Captur',\n",
              "       '318i', 'CRV', 'Q3', 'Accent', 'Corolla', 'CX-9', 'Tucson GLS',\n",
              "       'Land Cruiser', 'Rogue', 'TLX', 'GLE 400', 'Grand i10', '650i', '',\n",
              "       'LAND CRUISER Prado', 'EON', 'Swift dzire', 'Coolray', 'Outback',\n",
              "       'K2700', 'Aviator', 'Sportage Gt Line', 'Tundra', 'Rav 4', 'Yaris',\n",
              "       'MDX', 'Range Rover Vogue supercharged', 'Range Rover Sport',\n",
              "       'CX5', 'tercel', 'A3', 'F150 Lariat', 'Kicks', 'Venue', 'X1',\n",
              "       'Levante S', 'HILUX', 'F-150 Raptor', '640', 'Yaris S', 'Asx',\n",
              "       'Vitara', 'Figo', 'Q3 Sportback', 'Ranger XL', 'BRONCO SPORT',\n",
              "       'COROLLA SE', 'Pick Up 2.5', '301', 'ILX', 'ISUZU', 'TIGUAN',\n",
              "       'Traverse', 'Grand Cherokee Laredo', 'Ford EDGE SEL', 'WRANGLER',\n",
              "       'Range Rover Evoque', '4Runner', 'WRX', 'Prado TXL',\n",
              "       'Outlander Sport', 'Montero Sport', 'Equinox EV',\n",
              "       'Ranger WILDTRAK', 'Mustang', 'Ram 1500', 'Odyssey', 'QASQHAI',\n",
              "       'Civic Coupe', 'Versa', 'i10', 'Almera', 'Sportage', 'X5 3.OD',\n",
              "       'Wrangler Unlimited'], dtype=object)"
            ]
          },
          "execution_count": 216,
          "metadata": {},
          "output_type": "execute_result"
        }
      ],
      "source": [
        "reemplazos = {'X-Trail': ['extrail','xtrail','X-trail'], 'CRV':['Crv','cr-v'], 'CX5':['Cx-5','cx5'], 'Rio':['RIO'],\n",
        "              'Pick Up':['pik up']}\n",
        "data_tmp['modelo']=estandarizar_modelos(data_tmp.modelo, reemplazos)\n",
        "print(f\"Cantidad de modelos: {data_tmp.modelo.nunique()}\")\n",
        "data_tmp.modelo.unique()"
      ]
    },
    {
      "cell_type": "markdown",
      "metadata": {},
      "source": [
        "### Precio"
      ]
    },
    {
      "cell_type": "code",
      "execution_count": 217,
      "metadata": {},
      "outputs": [],
      "source": [
        "data['Precio'] = data['Precio'].str.replace('$','').str.replace(',','')\n",
        "data['Precio'] = data['Precio'].astype(int)\n"
      ]
    },
    {
      "cell_type": "code",
      "execution_count": 218,
      "metadata": {},
      "outputs": [
        {
          "data": {
            "text/html": [
              "<div>\n",
              "<style scoped>\n",
              "    .dataframe tbody tr th:only-of-type {\n",
              "        vertical-align: middle;\n",
              "    }\n",
              "\n",
              "    .dataframe tbody tr th {\n",
              "        vertical-align: top;\n",
              "    }\n",
              "\n",
              "    .dataframe thead th {\n",
              "        text-align: right;\n",
              "    }\n",
              "</style>\n",
              "<table border=\"1\" class=\"dataframe\">\n",
              "  <thead>\n",
              "    <tr style=\"text-align: right;\">\n",
              "      <th></th>\n",
              "      <th>marca</th>\n",
              "      <th>anio</th>\n",
              "      <th>modelo</th>\n",
              "      <th>carroceria</th>\n",
              "      <th>traccion</th>\n",
              "      <th>transmision</th>\n",
              "      <th>combustible</th>\n",
              "      <th>kilometraje</th>\n",
              "      <th>verificacion</th>\n",
              "      <th>Precio</th>\n",
              "    </tr>\n",
              "  </thead>\n",
              "  <tbody>\n",
              "    <tr>\n",
              "      <th>0</th>\n",
              "      <td>tesla</td>\n",
              "      <td>2018</td>\n",
              "      <td>Model 3</td>\n",
              "      <td>Sedan</td>\n",
              "      <td>4x4</td>\n",
              "      <td>Automática</td>\n",
              "      <td>Eléctrico</td>\n",
              "      <td>44000</td>\n",
              "      <td>93.0</td>\n",
              "      <td>55000</td>\n",
              "    </tr>\n",
              "    <tr>\n",
              "      <th>1</th>\n",
              "      <td>audi</td>\n",
              "      <td>2012</td>\n",
              "      <td>Q5</td>\n",
              "      <td>SUV</td>\n",
              "      <td>4x2</td>\n",
              "      <td>Automática</td>\n",
              "      <td>Gasolina</td>\n",
              "      <td>154000</td>\n",
              "      <td>NaN</td>\n",
              "      <td>6500</td>\n",
              "    </tr>\n",
              "    <tr>\n",
              "      <th>2</th>\n",
              "      <td>audi</td>\n",
              "      <td>2012</td>\n",
              "      <td>Q5</td>\n",
              "      <td>SUV</td>\n",
              "      <td>4x2</td>\n",
              "      <td>Automática</td>\n",
              "      <td>Gasolina</td>\n",
              "      <td>154000</td>\n",
              "      <td>NaN</td>\n",
              "      <td>6500</td>\n",
              "    </tr>\n",
              "    <tr>\n",
              "      <th>3</th>\n",
              "      <td>toyota</td>\n",
              "      <td>2019</td>\n",
              "      <td>Corolla SE</td>\n",
              "      <td>Sedan</td>\n",
              "      <td>4x2</td>\n",
              "      <td>Automática</td>\n",
              "      <td>Gasolina</td>\n",
              "      <td>78000</td>\n",
              "      <td>95.0</td>\n",
              "      <td>17500</td>\n",
              "    </tr>\n",
              "    <tr>\n",
              "      <th>4</th>\n",
              "      <td>audi</td>\n",
              "      <td>2012</td>\n",
              "      <td>Q5</td>\n",
              "      <td>SUV</td>\n",
              "      <td>4x2</td>\n",
              "      <td>Automática</td>\n",
              "      <td>Gasolina</td>\n",
              "      <td>154000</td>\n",
              "      <td>NaN</td>\n",
              "      <td>6500</td>\n",
              "    </tr>\n",
              "    <tr>\n",
              "      <th>...</th>\n",
              "      <td>...</td>\n",
              "      <td>...</td>\n",
              "      <td>...</td>\n",
              "      <td>...</td>\n",
              "      <td>...</td>\n",
              "      <td>...</td>\n",
              "      <td>...</td>\n",
              "      <td>...</td>\n",
              "      <td>...</td>\n",
              "      <td>...</td>\n",
              "    </tr>\n",
              "    <tr>\n",
              "      <th>4283</th>\n",
              "      <td>nissan</td>\n",
              "      <td>2005</td>\n",
              "      <td>Almera</td>\n",
              "      <td>Sedan</td>\n",
              "      <td>4x2</td>\n",
              "      <td>Automática</td>\n",
              "      <td>Gasolina</td>\n",
              "      <td>150000</td>\n",
              "      <td>NaN</td>\n",
              "      <td>3500</td>\n",
              "    </tr>\n",
              "    <tr>\n",
              "      <th>4284</th>\n",
              "      <td>kia</td>\n",
              "      <td>2017</td>\n",
              "      <td>Sportage</td>\n",
              "      <td>SUV</td>\n",
              "      <td>4x2</td>\n",
              "      <td>Automática</td>\n",
              "      <td>Gasolina</td>\n",
              "      <td>96000</td>\n",
              "      <td>NaN</td>\n",
              "      <td>12999</td>\n",
              "    </tr>\n",
              "    <tr>\n",
              "      <th>4285</th>\n",
              "      <td>bmw</td>\n",
              "      <td>2014</td>\n",
              "      <td>X5 3.OD</td>\n",
              "      <td>SUV</td>\n",
              "      <td>4x4</td>\n",
              "      <td>Automática</td>\n",
              "      <td>Diesel</td>\n",
              "      <td>167000</td>\n",
              "      <td>NaN</td>\n",
              "      <td>18000</td>\n",
              "    </tr>\n",
              "    <tr>\n",
              "      <th>4286</th>\n",
              "      <td>jeep</td>\n",
              "      <td>2018</td>\n",
              "      <td>Wrangler Unlimited</td>\n",
              "      <td>SUV</td>\n",
              "      <td>4x4</td>\n",
              "      <td>Automática</td>\n",
              "      <td>Gasolina</td>\n",
              "      <td>78000</td>\n",
              "      <td>NaN</td>\n",
              "      <td>25000</td>\n",
              "    </tr>\n",
              "    <tr>\n",
              "      <th>4287</th>\n",
              "      <td>toyota</td>\n",
              "      <td>2019</td>\n",
              "      <td>HILUX</td>\n",
              "      <td>Pickup</td>\n",
              "      <td>4x4</td>\n",
              "      <td>Automática</td>\n",
              "      <td>Diesel</td>\n",
              "      <td>83000</td>\n",
              "      <td>NaN</td>\n",
              "      <td>34995</td>\n",
              "    </tr>\n",
              "  </tbody>\n",
              "</table>\n",
              "<p>4288 rows × 10 columns</p>\n",
              "</div>"
            ],
            "text/plain": [
              "       marca  anio              modelo carroceria traccion transmision  \\\n",
              "0      tesla  2018             Model 3      Sedan      4x4  Automática   \n",
              "1       audi  2012                  Q5        SUV      4x2  Automática   \n",
              "2       audi  2012                  Q5        SUV      4x2  Automática   \n",
              "3     toyota  2019          Corolla SE      Sedan      4x2  Automática   \n",
              "4       audi  2012                  Q5        SUV      4x2  Automática   \n",
              "...      ...   ...                 ...        ...      ...         ...   \n",
              "4283  nissan  2005              Almera      Sedan      4x2  Automática   \n",
              "4284     kia  2017            Sportage        SUV      4x2  Automática   \n",
              "4285     bmw  2014             X5 3.OD        SUV      4x4  Automática   \n",
              "4286    jeep  2018  Wrangler Unlimited        SUV      4x4  Automática   \n",
              "4287  toyota  2019               HILUX     Pickup      4x4  Automática   \n",
              "\n",
              "     combustible  kilometraje  verificacion  Precio  \n",
              "0      Eléctrico        44000          93.0   55000  \n",
              "1       Gasolina       154000           NaN    6500  \n",
              "2       Gasolina       154000           NaN    6500  \n",
              "3       Gasolina        78000          95.0   17500  \n",
              "4       Gasolina       154000           NaN    6500  \n",
              "...          ...          ...           ...     ...  \n",
              "4283    Gasolina       150000           NaN    3500  \n",
              "4284    Gasolina        96000           NaN   12999  \n",
              "4285      Diesel       167000           NaN   18000  \n",
              "4286    Gasolina        78000           NaN   25000  \n",
              "4287      Diesel        83000           NaN   34995  \n",
              "\n",
              "[4288 rows x 10 columns]"
            ]
          },
          "execution_count": 218,
          "metadata": {},
          "output_type": "execute_result"
        }
      ],
      "source": [
        "data_tmp.drop('nombre', axis=1, inplace=True)\n",
        "data_tmp['carroceria'] = data.Carrocería.copy()\n",
        "data_tmp['traccion'] = data.Tracción.copy()\n",
        "data_tmp['transmision'] = data.Transmisión.copy()\n",
        "data_tmp['combustible'] = data.Combustible.copy()\n",
        "data_tmp['kilometraje'] = data.KM.copy()\n",
        "data_tmp['verificacion'] = data.Verificación.copy()\n",
        "data_tmp['Precio'] = data.Precio.copy()\n",
        "data_tmp"
      ]
    },
    {
      "cell_type": "code",
      "execution_count": 219,
      "metadata": {},
      "outputs": [
        {
          "data": {
            "text/plain": [
              "marca            object\n",
              "anio              int64\n",
              "modelo           object\n",
              "carroceria       object\n",
              "traccion         object\n",
              "transmision      object\n",
              "combustible      object\n",
              "kilometraje       int64\n",
              "verificacion    float64\n",
              "Precio            int64\n",
              "dtype: object"
            ]
          },
          "execution_count": 219,
          "metadata": {},
          "output_type": "execute_result"
        }
      ],
      "source": [
        "data_tmp.dtypes"
      ]
    },
    {
      "cell_type": "code",
      "execution_count": null,
      "metadata": {},
      "outputs": [],
      "source": []
    }
  ],
  "metadata": {
    "colab": {
      "provenance": []
    },
    "kernelspec": {
      "display_name": "Python 3",
      "name": "python3"
    },
    "language_info": {
      "codemirror_mode": {
        "name": "ipython",
        "version": 3
      },
      "file_extension": ".py",
      "mimetype": "text/x-python",
      "name": "python",
      "nbconvert_exporter": "python",
      "pygments_lexer": "ipython3",
      "version": "3.12.6"
    }
  },
  "nbformat": 4,
  "nbformat_minor": 0
}
