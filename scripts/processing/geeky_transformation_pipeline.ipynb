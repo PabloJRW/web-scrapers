{
 "cells": [
  {
   "cell_type": "code",
   "execution_count": 1,
   "metadata": {},
   "outputs": [],
   "source": [
    "import os\n",
    "import re\n",
    "import numpy as np\n",
    "import pandas as pd\n",
    "from datetime import datetime"
   ]
  },
  {
   "cell_type": "code",
   "execution_count": 2,
   "metadata": {},
   "outputs": [],
   "source": [
    "# Lista de marcas de autos\n",
    "lista_marcas = [\n",
    "    \"acura\", \"alfa romeo\", \"aston martin\", \"audi\", \"bentley\", \"bmw\", \"bugatti\", \"buick\",\n",
    "    \"cadillac\", \"chevrolet\", \"chrysler\", \"citroën\", \"dacia\", \"daewoo\", \"daihatsu\", \"dodge\",\n",
    "    \"ferrari\", \"fiat\", \"ford\", \"geely\", \"genesis\", \"gmc\", \"honda\", \"hummer\", \"hyundai\", \"infiniti\",\n",
    "    \"isuzu\", \"jaguar\", \"jeep\", \"kia\", \"koenigsegg\", \"lamborghini\", \"lancia\", \"land rover\",\n",
    "    \"lexus\", \"lincoln\", \"lotus\", \"mahindra\", \"maserati\", \"maybach\", \"mazda\", \"mclaren\", \"mercedes-benz\",\n",
    "    \"mercury\", \"mg\", \"mini\", \"mitsubishi\", \"morgan\", \"nissan\", \"opel\", \"pagani\", \"peugeot\",\n",
    "    \"plymouth\", \"polestar\", \"pontiac\", \"porsche\", \"ram\", \"renault\", \"rolls-royce\", \"saab\",\n",
    "    \"seat\", \"škoda\", \"smart\", \"subaru\", \"suzuki\", \"tata\", \"tesla\", \"toyota\", \"volkswagen\",\n",
    "    \"volvo\", \"wiesmann\", \"zotye\", \"byd\", \"chery\", \"jac\", \"ssangyong\", \"great wall\", \"fisker\", \"rivian\", \"lucid\", \"vinfast\"\n",
    "]"
   ]
  },
  {
   "cell_type": "code",
   "execution_count": null,
   "metadata": {},
   "outputs": [],
   "source": [
    "class ModeloTransformer:\n",
    "    def __init__(self, modelo) -> None:\n",
    "        self.modelo\n",
    "\n",
    "    \n",
    "    def extraer_marca(self):\n",
    "        # Convertir el texto a minúsculas\n",
    "        texto = modelo.lower()\n",
    "\n",
    "        for marca in lista_marcas:\n",
    "            # Crear un patrón de expresión regular para la marca, con delimitadores de palabra\n",
    "            patron = r'\\b' + re.escape(marca.lower()) + r'\\b'\n",
    "\n",
    "            # Si encuentra una coincidencia de palabra completa, retorna la marca\n",
    "            if re.search(patron, texto):\n",
    "                return marca\n",
    "\n",
    "        return \"\"\n",
    "\n",
    "    \n",
    "    def remover_full_extras(self):\n",
    "        \"\"\"\n",
    "        Elimina las palabras 'full extra', 'full extras' y 'full xtra' de una columna en un DataFrame de pandas,\n",
    "        sin importar si están en mayúsculas o minúsculas.\n",
    "        \"\"\"\n",
    "        pattern = re.compile(r'\\b(full extra|full extras|full xtra)\\b', re.IGNORECASE)\n",
    "        modelo_tmp = modelo.apply(lambda x: pattern.sub('', str(x)).strip())\n",
    "\n",
    "        return modelo_tmp\n"
   ]
  }
 ],
 "metadata": {
  "kernelspec": {
   "display_name": "scrapenv",
   "language": "python",
   "name": "python3"
  },
  "language_info": {
   "codemirror_mode": {
    "name": "ipython",
    "version": 3
   },
   "file_extension": ".py",
   "mimetype": "text/x-python",
   "name": "python",
   "nbconvert_exporter": "python",
   "pygments_lexer": "ipython3",
   "version": "3.12.6"
  }
 },
 "nbformat": 4,
 "nbformat_minor": 2
}
